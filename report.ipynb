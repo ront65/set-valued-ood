{
 "cells": [
  {
   "cell_type": "code",
   "execution_count": null,
   "metadata": {},
   "outputs": [],
   "source": [
    "from evaluation.report import REPORTER"
   ]
  },
  {
   "cell_type": "code",
   "execution_count": null,
   "metadata": {},
   "outputs": [],
   "source": [
    "project= \"\" ## Enter wandb Project name\n",
    "num_classes = 2 ## Enter num classes in the dataset (Camelyon: 2, Fmow: 3, iwildcam: 3, Amazon: 5, Synthetic: 2)"
   ]
  },
  {
   "cell_type": "markdown",
   "metadata": {},
   "source": [
    "## Example of main experiments report"
   ]
  },
  {
   "cell_type": "code",
   "execution_count": null,
   "metadata": {},
   "outputs": [],
   "source": [
    "models = {\n",
    "    'standard': 'ERM', \n",
    "    'poolingCDF_TrainC': 'Pooling CDFs (TrainC)',\n",
    "    'poolingCDF_CVC': 'Pooling CDFs (CVC)',\n",
    "    'conformal': 'Robust Conformal', \n",
    "    'set_cover': 'SET-COVER',\n",
    "}\n",
    "data_sets = ['train', 'in-domain-test', 'ood-test']"
   ]
  },
  {
   "cell_type": "code",
   "execution_count": null,
   "metadata": {},
   "outputs": [],
   "source": [
    "##Enter your experiment's wabdn run ids. Each type of experiment may have multiple eun ids (for different seeds)\n",
    "## The example below is for experiments of set-cover , standard(erm), and poolingCDF with CVC split.\n",
    "## Note that Robust Conformal and poolingCDF with TrainC split do not require their own run ids, as they are based on the standard(erm) experiments.\n",
    "runs = {\n",
    "    'poolCDF_CVC': [''], \n",
    "    'set_cover': [''],\n",
    "    'standard': [''], \n",
    "}"
   ]
  },
  {
   "cell_type": "code",
   "execution_count": null,
   "metadata": {},
   "outputs": [],
   "source": [
    "def plot_exp(runs, epoch):\n",
    "    reporter = REPORTER(project=project, runs=runs, data_sets=data_sets, num_classes=num_classes, epoch=epoch-1, coverage=0.9)\n",
    "    reporter.plot_recall_vs_size_cross(models, data_sets,  var_type='percentiles')\n",
    "    return reporter.plot_table(models, data_sets)"
   ]
  },
  {
   "cell_type": "code",
   "execution_count": null,
   "metadata": {},
   "outputs": [],
   "source": [
    "plot_exp(runs=runs, epoch=5)"
   ]
  },
  {
   "cell_type": "markdown",
   "metadata": {},
   "source": [
    "## Example of single-valued OOD baselines (taken from DomainBed) report"
   ]
  },
  {
   "cell_type": "markdown",
   "metadata": {},
   "source": [
    "models = {\n",
    "    'standard': 'ERM', \n",
    "    'irm': 'IRM',\n",
    "    'vrex': 'VREx',\n",
    "    'mmd': 'MMD',\n",
    "    'coral': 'CORAL',\n",
    "    'set_cover': 'SET-COVER',\n",
    "    \n",
    "}"
   ]
  },
  {
   "cell_type": "code",
   "execution_count": null,
   "metadata": {},
   "outputs": [],
   "source": [
    "runs = {\n",
    "    'vrex': [''], \n",
    "    'irm': [''],\n",
    "    'set_cover': ['',],\n",
    "    'standard': [''], \n",
    "    'mmd': [''],\n",
    "    'coral': ['']\n",
    "}"
   ]
  },
  {
   "cell_type": "code",
   "execution_count": null,
   "metadata": {},
   "outputs": [],
   "source": [
    "def plot_exp(runs, epoch):\n",
    "    reporter = REPORTER(project=project, runs=runs, data_sets=data_sets, num_classes=num_classes, epoch=epoch-1, add_conformals = False)\n",
    "    reporter.plot_recall_vs_size_cross(models, data_sets,  var_type='percentiles')\n",
    "    reporter.plot_recall_boxplot(models, data_sets,)\n",
    "    reporter.plot_correctness_barplot(models, data_sets, )\n",
    "    return reporter.plot_table(models, data_sets)"
   ]
  },
  {
   "cell_type": "code",
   "execution_count": null,
   "metadata": {},
   "outputs": [],
   "source": [
    "plot_exp(runs=runs, epoch=5)"
   ]
  }
 ],
 "metadata": {
  "language_info": {
   "name": "python"
  }
 },
 "nbformat": 4,
 "nbformat_minor": 2
}
